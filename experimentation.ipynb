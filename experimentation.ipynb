{
 "cells": [
  {
   "cell_type": "code",
   "execution_count": null,
   "metadata": {},
   "outputs": [],
   "source": [
    "# pasting all of my param options into one spot\n",
    "'''\n",
    "parser = argparse.ArgumentParser()\n",
    "    parser.add_argument('--text', default=None, help=\"text prompt\")\n",
    "    parser.add_argument('--negative', default='', type=str, help=\"negative text prompt\")\n",
    "    parser.add_argument('-O', action='store_true', help=\"equals --fp16 --cuda_ray --dir_text\")\n",
    "    parser.add_argument('-O2', action='store_true', help=\"equals --fp16 --dir_text\")\n",
    "    parser.add_argument('--test', action='store_true', help=\"test mode\")\n",
    "    parser.add_argument('--save_mesh', action='store_true', help=\"export an obj mesh with texture\")\n",
    "    parser.add_argument('--eval_interval', type=int, default=10, help=\"evaluate on the valid set every interval epochs\")\n",
    "    parser.add_argument('--workspace', type=str, default='workspace')\n",
    "    parser.add_argument('--guidance', type=str, default='stable-diffusion', help='choose from [stable-diffusion, clip]')\n",
    "    parser.add_argument('--seed', type=int, default=0)\n",
    "\n",
    "    ### training options\n",
    "    parser.add_argument('--iters', type=int, default=10000, help=\"training iters\")\n",
    "    parser.add_argument('--lr', type=float, default=1e-3, help=\"initial learning rate\")\n",
    "    parser.add_argument('--ckpt', type=str, default='latest')\n",
    "    parser.add_argument('--cuda_ray', action='store_true', help=\"use CUDA raymarching instead of pytorch\")\n",
    "    parser.add_argument('--max_steps', type=int, default=1024, help=\"max num steps sampled per ray (only valid when using --cuda_ray)\")\n",
    "    parser.add_argument('--num_steps', type=int, default=64, help=\"num steps sampled per ray (only valid when not using --cuda_ray)\")\n",
    "    parser.add_argument('--upsample_steps', type=int, default=64, help=\"num steps up-sampled per ray (only valid when not using --cuda_ray)\")\n",
    "    parser.add_argument('--update_extra_interval', type=int, default=16, help=\"iter interval to update extra status (only valid when using --cuda_ray)\")\n",
    "    parser.add_argument('--max_ray_batch', type=int, default=4096, help=\"batch size of rays at inference to avoid OOM (only valid when not using --cuda_ray)\")\n",
    "    parser.add_argument('--albedo_iters', type=int, default=1000, help=\"training iters that only use albedo shading\")\n",
    "    # model options\n",
    "    parser.add_argument('--bg_radius', type=float, default=1.4, help=\"if positive, use a background model at sphere(bg_radius)\")\n",
    "    parser.add_argument('--density_thresh', type=float, default=10, help=\"threshold for density grid to be occupied\")\n",
    "    # network backbone\n",
    "    parser.add_argument('--fp16', action='store_true', help=\"use amp mixed precision training\")\n",
    "    parser.add_argument('--backbone', type=str, default='grid', help=\"nerf backbone, choose from [grid, vanilla]\")\n",
    "    # rendering resolution in training, decrease this if CUDA OOM.\n",
    "    parser.add_argument('--w', type=int, default=64, help=\"render width for NeRF in training\")\n",
    "    parser.add_argument('--h', type=int, default=64, help=\"render height for NeRF in training\")\n",
    "    parser.add_argument('--jitter_pose', action='store_true', help=\"add jitters to the randomly sampled camera poses\")\n",
    "    \n",
    "    ### dataset options\n",
    "    parser.add_argument('--bound', type=float, default=1, help=\"assume the scene is bounded in box(-bound, bound)\")\n",
    "    parser.add_argument('--dt_gamma', type=float, default=0, help=\"dt_gamma (>=0) for adaptive ray marching. set to 0 to disable, >0 to accelerate rendering (but usually with worse quality)\")\n",
    "    parser.add_argument('--min_near', type=float, default=0.1, help=\"minimum near distance for camera\")\n",
    "    parser.add_argument('--radius_range', type=float, nargs='*', default=[1.0, 1.5], help=\"training camera radius range\")\n",
    "    parser.add_argument('--fovy_range', type=float, nargs='*', default=[40, 70], help=\"training camera fovy range\")\n",
    "    parser.add_argument('--dir_text', action='store_true', help=\"direction-encode the text prompt, by appending front/side/back/overhead view\")\n",
    "    parser.add_argument('--negative_dir_text', action='store_true', help=\"also use negative dir text prompt.\")\n",
    "    parser.add_argument('--angle_overhead', type=float, default=30, help=\"[0, angle_overhead] is the overhead region\")\n",
    "    parser.add_argument('--angle_front', type=float, default=60, help=\"[0, angle_front] is the front region, [180, 180+angle_front] the back region, otherwise the side region.\")\n",
    "\n",
    "    parser.add_argument('--lambda_entropy', type=float, default=1e-4, help=\"loss scale for alpha entropy\")\n",
    "    parser.add_argument('--lambda_opacity', type=float, default=0, help=\"loss scale for alpha value\")\n",
    "    parser.add_argument('--lambda_orient', type=float, default=1e-2, help=\"loss scale for orientation\")\n",
    "    parser.add_argument('--lambda_smooth', type=float, default=0, help=\"loss scale for orientation\")\n",
    "\n",
    "    ### GUI options\n",
    "    parser.add_argument('--gui', action='store_true', help=\"start a GUI\")\n",
    "    parser.add_argument('--W', type=int, default=800, help=\"GUI width\")\n",
    "    parser.add_argument('--H', type=int, default=800, help=\"GUI height\")\n",
    "    parser.add_argument('--radius', type=float, default=3, help=\"default GUI camera radius from center\")\n",
    "    parser.add_argument('--fovy', type=float, default=60, help=\"default GUI camera fovy\")\n",
    "    parser.add_argument('--light_theta', type=float, default=60, help=\"default GUI light direction in [0, 180], corresponding to elevation [90, -90]\")\n",
    "    parser.add_argument('--light_phi', type=float, default=0, help=\"default GUI light direction in [0, 360), azimuth\")\n",
    "    parser.add_argument('--max_spp', type=int, default=1, help=\"GUI rendering max sample per pixel\")\n",
    "\n",
    "    opt = parser.parse_args()\n",
    "'''"
   ]
  },
  {
   "cell_type": "code",
   "execution_count": null,
   "metadata": {},
   "outputs": [],
   "source": [
    "# Default params\n",
    "Prompt_text = \"a DSLR photo of a delicious hamburger\" #@param {type: 'string'}\n",
    "Training_iters = 2500 #@param {type: 'integer'}\n",
    "Learning_rate = 1e-2 #@param {type: 'number'}\n",
    "Training_nerf_resolution = 64  #@param {type: 'integer'}\n",
    "# CUDA_ray = True #@param {type: 'boolean'}\n",
    "# View_dependent_prompt = True #@param {type: 'boolean'}\n",
    "# FP16 = True #@param {type: 'boolean'}\n",
    "Seed = 0 #@param {type: 'integer'}\n",
    "Lambda_entropy = 1e-4 #@param {type: 'number'}\n",
    "Checkpoint = 'scratch' #@param {type: 'string'}\n",
    "\n",
    "#@markdown ---\n",
    "\n",
    "#@markdown ####**Output Settings:**\n",
    "Workspace = \"hamburger\" #@param{type: 'string'}\n",
    "# Save_mesh = True #@param {type: 'boolean'}\n",
    "\n",
    "# processings\n",
    "Prompt_text = \"'\" + Prompt_text + \"'\""
   ]
  },
  {
   "cell_type": "markdown",
   "metadata": {},
   "source": [
    "# Iteration testing"
   ]
  },
  {
   "cell_type": "code",
   "execution_count": null,
   "metadata": {},
   "outputs": [],
   "source": [
    "# First want to test iterations w/an example text\n",
    "# Need to also save loss and print it out\n",
    "\n",
    "# Default is 10,000 but more is recommended\n",
    "# Run default up to 20k and save loss + itermediate results\n",
    "\n"
   ]
  }
 ],
 "metadata": {
  "interpreter": {
   "hash": "eda7e54fe21129b67f77862937907ee926f057597a3e2fa1e18ac955e40912b3"
  },
  "kernelspec": {
   "display_name": "Python 3.10.8 64-bit",
   "name": "python3"
  },
  "language_info": {
   "name": "python",
   "version": ""
  },
  "orig_nbformat": 4
 },
 "nbformat": 4,
 "nbformat_minor": 2
}